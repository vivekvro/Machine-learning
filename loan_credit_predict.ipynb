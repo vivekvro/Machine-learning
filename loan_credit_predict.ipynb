{
 "cells": [
  {
   "cell_type": "markdown",
   "id": "03c29bb5",
   "metadata": {
    "papermill": {
     "duration": 0.00471,
     "end_time": "2025-09-27T11:33:07.672393",
     "exception": false,
     "start_time": "2025-09-27T11:33:07.667683",
     "status": "completed"
    },
    "tags": []
   },
   "source": [
    "# 💳 Loan Approval Prediction  \n",
    "\n",
    "---\n",
    "\n",
    "## 📌 Project Overview  \n",
    "This project predicts whether a loan application will be **approved** based on applicant details and financial history.  \n",
    "\n",
    "✨ **Goal** → Assist **financial institutions** in making **faster, smarter, and data-driven** loan approval decisions.  \n",
    "\n",
    "---\n",
    "\n",
    "## 🎯 Objectives\n",
    "\n",
    "Analyze applicant data such as income, credit history, and loan purpose.\n",
    "\n",
    "Build machine learning models to predict loan approval.\n",
    "\n",
    "Evaluate model performance using standard metrics.\n",
    "\n",
    "---\n",
    "\n",
    "## Given\n",
    "\n",
    "\n",
    "\n",
    "| Feature               | Type                        | Category              | Description                                                                                                                    |\n",
    "| --------------------- | --------------------------- | --------------------- | ------------------------------------------------------------------------------------------------------------------------------ |\n",
    "| **credit.policy**     | Binary (0/1)                | 🎯 Target             | `1` if customer meets credit criteria, `0` otherwise.                                                                          |\n",
    "| **purpose**           | Categorical                 | 📝 Loan Info          | Loan purpose: `\"credit_card\"`, `\"debt_consolidation\"`, `\"educational\"`, `\"major_purchase\"`, `\"small_business\"`, `\"all_other\"`. |\n",
    "| **int.rate**          | Numeric (float, proportion) | 📝 Loan Info          | Loan interest rate (e.g., `0.11` = 11%). Higher = riskier borrower.                                                            |\n",
    "| **installment**       | Numeric (float)             | 📝 Loan Info          | Monthly loan payment owed by borrower.                                                                                         |\n",
    "| **log.annual.inc**    | Numeric (log-transformed)   | 👤 Borrower Profile   | Natural log of annual income. Higher = better repayment ability.                                                               |\n",
    "| **dti**               | Numeric (float)             | 👤 Borrower Profile   | Debt-to-Income ratio = (Debt ÷ Income). High = risky.                                                                          |\n",
    "| **fico**              | Numeric (integer)           | 👤 Borrower Profile   | FICO score (300–850). Higher = more creditworthy.                                                                              |\n",
    "| **days.with.cr.line** | Numeric (integer)           | 📅 Credit History     | Number of days borrower has had a credit line. Longer = more reliable history.                                                 |\n",
    "| **revol.bal**         | Numeric (integer)           | 💳 Credit Utilization | Outstanding revolving balance (unpaid credit card debt).                                                                       |\n",
    "| **revol.util**        | Numeric (float, %)          | 💳 Credit Utilization | Credit utilization = (Balance ÷ Credit Limit). High (>30%) = red flag.                                                         |\n",
    "| **inq.last.6mths**    | Numeric (integer)           | 📅 Credit History     | Number of credit inquiries in past 6 months. Many = riskier.                                                                   |\n",
    "| **delinq.2yrs**       | Numeric (integer)           | 📅 Credit History     | Times borrower was 30+ days late in last 2 years.                                                                              |\n",
    "| **pub.rec**           | Numeric (integer)           | 📅 Credit History     | Public derogatory records (bankruptcy, liens, judgments). Even 1 is risky.                                                     |\n"
   ]
  },
  {
   "cell_type": "code",
   "execution_count": 1,
   "id": "4dc5f885",
   "metadata": {
    "_cell_guid": "b1076dfc-b9ad-4769-8c92-a6c4dae69d19",
    "_uuid": "8f2839f25d086af736a60e9eeb907d3b93b6e0e5",
    "execution": {
     "iopub.execute_input": "2025-09-27T11:33:07.682009Z",
     "iopub.status.busy": "2025-09-27T11:33:07.681672Z",
     "iopub.status.idle": "2025-09-27T11:33:12.827829Z",
     "shell.execute_reply": "2025-09-27T11:33:12.826543Z"
    },
    "papermill": {
     "duration": 5.153381,
     "end_time": "2025-09-27T11:33:12.829995",
     "exception": false,
     "start_time": "2025-09-27T11:33:07.676614",
     "status": "completed"
    },
    "tags": []
   },
   "outputs": [],
   "source": [
    "import numpy as np # linear algebra\n",
    "import pandas as pd # data processing, CSV file I/O (e.g. pd.read_csv)\n",
    "import matplotlib.pyplot as plt,seaborn as sns\n",
    "from sklearn.model_selection import train_test_split\n",
    "from sklearn.svm import SVC\n",
    "from sklearn.tree import DecisionTreeClassifier\n",
    "from sklearn.ensemble import RandomForestClassifier\n",
    "from sklearn.compose import ColumnTransformer\n",
    "from sklearn.preprocessing import OneHotEncoder"
   ]
  },
  {
   "cell_type": "code",
   "execution_count": 2,
   "id": "bfbe46d1",
   "metadata": {
    "execution": {
     "iopub.execute_input": "2025-09-27T11:33:12.841651Z",
     "iopub.status.busy": "2025-09-27T11:33:12.840881Z",
     "iopub.status.idle": "2025-09-27T11:33:12.931574Z",
     "shell.execute_reply": "2025-09-27T11:33:12.930323Z"
    },
    "papermill": {
     "duration": 0.098635,
     "end_time": "2025-09-27T11:33:12.933628",
     "exception": false,
     "start_time": "2025-09-27T11:33:12.834993",
     "status": "completed"
    },
    "tags": []
   },
   "outputs": [
    {
     "data": {
      "text/html": [
       "<div>\n",
       "<style scoped>\n",
       "    .dataframe tbody tr th:only-of-type {\n",
       "        vertical-align: middle;\n",
       "    }\n",
       "\n",
       "    .dataframe tbody tr th {\n",
       "        vertical-align: top;\n",
       "    }\n",
       "\n",
       "    .dataframe thead th {\n",
       "        text-align: right;\n",
       "    }\n",
       "</style>\n",
       "<table border=\"1\" class=\"dataframe\">\n",
       "  <thead>\n",
       "    <tr style=\"text-align: right;\">\n",
       "      <th></th>\n",
       "      <th>credit.policy</th>\n",
       "      <th>purpose</th>\n",
       "      <th>int.rate</th>\n",
       "      <th>installment</th>\n",
       "      <th>log.annual.inc</th>\n",
       "      <th>dti</th>\n",
       "      <th>fico</th>\n",
       "      <th>days.with.cr.line</th>\n",
       "      <th>revol.bal</th>\n",
       "      <th>revol.util</th>\n",
       "      <th>inq.last.6mths</th>\n",
       "      <th>delinq.2yrs</th>\n",
       "      <th>pub.rec</th>\n",
       "      <th>not.fully.paid</th>\n",
       "    </tr>\n",
       "  </thead>\n",
       "  <tbody>\n",
       "    <tr>\n",
       "      <th>0</th>\n",
       "      <td>1</td>\n",
       "      <td>debt_consolidation</td>\n",
       "      <td>0.1189</td>\n",
       "      <td>829.10</td>\n",
       "      <td>11.350407</td>\n",
       "      <td>19.48</td>\n",
       "      <td>737</td>\n",
       "      <td>5639.958333</td>\n",
       "      <td>28854</td>\n",
       "      <td>52.1</td>\n",
       "      <td>0</td>\n",
       "      <td>0</td>\n",
       "      <td>0</td>\n",
       "      <td>0</td>\n",
       "    </tr>\n",
       "    <tr>\n",
       "      <th>1</th>\n",
       "      <td>1</td>\n",
       "      <td>credit_card</td>\n",
       "      <td>0.1071</td>\n",
       "      <td>228.22</td>\n",
       "      <td>11.082143</td>\n",
       "      <td>14.29</td>\n",
       "      <td>707</td>\n",
       "      <td>2760.000000</td>\n",
       "      <td>33623</td>\n",
       "      <td>76.7</td>\n",
       "      <td>0</td>\n",
       "      <td>0</td>\n",
       "      <td>0</td>\n",
       "      <td>0</td>\n",
       "    </tr>\n",
       "    <tr>\n",
       "      <th>2</th>\n",
       "      <td>1</td>\n",
       "      <td>debt_consolidation</td>\n",
       "      <td>0.1357</td>\n",
       "      <td>366.86</td>\n",
       "      <td>10.373491</td>\n",
       "      <td>11.63</td>\n",
       "      <td>682</td>\n",
       "      <td>4710.000000</td>\n",
       "      <td>3511</td>\n",
       "      <td>25.6</td>\n",
       "      <td>1</td>\n",
       "      <td>0</td>\n",
       "      <td>0</td>\n",
       "      <td>0</td>\n",
       "    </tr>\n",
       "    <tr>\n",
       "      <th>3</th>\n",
       "      <td>1</td>\n",
       "      <td>debt_consolidation</td>\n",
       "      <td>0.1008</td>\n",
       "      <td>162.34</td>\n",
       "      <td>11.350407</td>\n",
       "      <td>8.10</td>\n",
       "      <td>712</td>\n",
       "      <td>2699.958333</td>\n",
       "      <td>33667</td>\n",
       "      <td>73.2</td>\n",
       "      <td>1</td>\n",
       "      <td>0</td>\n",
       "      <td>0</td>\n",
       "      <td>0</td>\n",
       "    </tr>\n",
       "    <tr>\n",
       "      <th>4</th>\n",
       "      <td>1</td>\n",
       "      <td>credit_card</td>\n",
       "      <td>0.1426</td>\n",
       "      <td>102.92</td>\n",
       "      <td>11.299732</td>\n",
       "      <td>14.97</td>\n",
       "      <td>667</td>\n",
       "      <td>4066.000000</td>\n",
       "      <td>4740</td>\n",
       "      <td>39.5</td>\n",
       "      <td>0</td>\n",
       "      <td>1</td>\n",
       "      <td>0</td>\n",
       "      <td>0</td>\n",
       "    </tr>\n",
       "  </tbody>\n",
       "</table>\n",
       "</div>"
      ],
      "text/plain": [
       "   credit.policy             purpose  int.rate  installment  log.annual.inc  \\\n",
       "0              1  debt_consolidation    0.1189       829.10       11.350407   \n",
       "1              1         credit_card    0.1071       228.22       11.082143   \n",
       "2              1  debt_consolidation    0.1357       366.86       10.373491   \n",
       "3              1  debt_consolidation    0.1008       162.34       11.350407   \n",
       "4              1         credit_card    0.1426       102.92       11.299732   \n",
       "\n",
       "     dti  fico  days.with.cr.line  revol.bal  revol.util  inq.last.6mths  \\\n",
       "0  19.48   737        5639.958333      28854        52.1               0   \n",
       "1  14.29   707        2760.000000      33623        76.7               0   \n",
       "2  11.63   682        4710.000000       3511        25.6               1   \n",
       "3   8.10   712        2699.958333      33667        73.2               1   \n",
       "4  14.97   667        4066.000000       4740        39.5               0   \n",
       "\n",
       "   delinq.2yrs  pub.rec  not.fully.paid  \n",
       "0            0        0               0  \n",
       "1            0        0               0  \n",
       "2            0        0               0  \n",
       "3            0        0               0  \n",
       "4            1        0               0  "
      ]
     },
     "execution_count": 2,
     "metadata": {},
     "output_type": "execute_result"
    }
   ],
   "source": [
    "df = pd.read_csv('/kaggle/input/loan-data/loan_data.csv')\n",
    "df.head()"
   ]
  },
  {
   "cell_type": "code",
   "execution_count": 3,
   "id": "2cd8813d",
   "metadata": {
    "execution": {
     "iopub.execute_input": "2025-09-27T11:33:12.943703Z",
     "iopub.status.busy": "2025-09-27T11:33:12.943320Z",
     "iopub.status.idle": "2025-09-27T11:33:12.973964Z",
     "shell.execute_reply": "2025-09-27T11:33:12.972675Z"
    },
    "papermill": {
     "duration": 0.037533,
     "end_time": "2025-09-27T11:33:12.975708",
     "exception": false,
     "start_time": "2025-09-27T11:33:12.938175",
     "status": "completed"
    },
    "tags": []
   },
   "outputs": [
    {
     "name": "stdout",
     "output_type": "stream",
     "text": [
      "<class 'pandas.core.frame.DataFrame'>\n",
      "RangeIndex: 9578 entries, 0 to 9577\n",
      "Data columns (total 14 columns):\n",
      " #   Column             Non-Null Count  Dtype  \n",
      "---  ------             --------------  -----  \n",
      " 0   credit.policy      9578 non-null   int64  \n",
      " 1   purpose            9578 non-null   object \n",
      " 2   int.rate           9578 non-null   float64\n",
      " 3   installment        9578 non-null   float64\n",
      " 4   log.annual.inc     9578 non-null   float64\n",
      " 5   dti                9578 non-null   float64\n",
      " 6   fico               9578 non-null   int64  \n",
      " 7   days.with.cr.line  9578 non-null   float64\n",
      " 8   revol.bal          9578 non-null   int64  \n",
      " 9   revol.util         9578 non-null   float64\n",
      " 10  inq.last.6mths     9578 non-null   int64  \n",
      " 11  delinq.2yrs        9578 non-null   int64  \n",
      " 12  pub.rec            9578 non-null   int64  \n",
      " 13  not.fully.paid     9578 non-null   int64  \n",
      "dtypes: float64(6), int64(7), object(1)\n",
      "memory usage: 1.0+ MB\n"
     ]
    }
   ],
   "source": [
    "df.info()"
   ]
  },
  {
   "cell_type": "code",
   "execution_count": 4,
   "id": "ec14f17a",
   "metadata": {
    "execution": {
     "iopub.execute_input": "2025-09-27T11:33:12.985849Z",
     "iopub.status.busy": "2025-09-27T11:33:12.985434Z",
     "iopub.status.idle": "2025-09-27T11:33:12.997245Z",
     "shell.execute_reply": "2025-09-27T11:33:12.995704Z"
    },
    "papermill": {
     "duration": 0.019231,
     "end_time": "2025-09-27T11:33:12.999514",
     "exception": false,
     "start_time": "2025-09-27T11:33:12.980283",
     "status": "completed"
    },
    "tags": []
   },
   "outputs": [],
   "source": [
    "X = df.drop(['credit.policy','not.fully.paid'],axis=1)\n",
    "y = df['credit.policy']\n",
    "categorical_cols = ['purpose']\n",
    "num_cols = [col for col in X.columns if col not in categorical_cols]"
   ]
  },
  {
   "cell_type": "markdown",
   "id": "abee600d",
   "metadata": {
    "papermill": {
     "duration": 0.003835,
     "end_time": "2025-09-27T11:33:13.008508",
     "exception": false,
     "start_time": "2025-09-27T11:33:13.004673",
     "status": "completed"
    },
    "tags": []
   },
   "source": [
    "## preprocessing"
   ]
  },
  {
   "cell_type": "code",
   "execution_count": 5,
   "id": "712aa6a9",
   "metadata": {
    "execution": {
     "iopub.execute_input": "2025-09-27T11:33:13.018262Z",
     "iopub.status.busy": "2025-09-27T11:33:13.017880Z",
     "iopub.status.idle": "2025-09-27T11:33:13.023188Z",
     "shell.execute_reply": "2025-09-27T11:33:13.022065Z"
    },
    "papermill": {
     "duration": 0.012338,
     "end_time": "2025-09-27T11:33:13.024927",
     "exception": false,
     "start_time": "2025-09-27T11:33:13.012589",
     "status": "completed"
    },
    "tags": []
   },
   "outputs": [],
   "source": [
    "preprocessor =ColumnTransformer([\n",
    "    ('num','passthrough',num_cols),\n",
    "    ('cat',OneHotEncoder(),categorical_cols)\n",
    "])"
   ]
  },
  {
   "cell_type": "code",
   "execution_count": 6,
   "id": "5cf7c349",
   "metadata": {
    "execution": {
     "iopub.execute_input": "2025-09-27T11:33:13.035436Z",
     "iopub.status.busy": "2025-09-27T11:33:13.035062Z",
     "iopub.status.idle": "2025-09-27T11:33:13.045805Z",
     "shell.execute_reply": "2025-09-27T11:33:13.044810Z"
    },
    "papermill": {
     "duration": 0.018076,
     "end_time": "2025-09-27T11:33:13.047728",
     "exception": false,
     "start_time": "2025-09-27T11:33:13.029652",
     "status": "completed"
    },
    "tags": []
   },
   "outputs": [],
   "source": [
    "X_train, X_test, y_train, y_test = train_test_split(X,y,test_size=0.3,random_state=42)"
   ]
  },
  {
   "cell_type": "code",
   "execution_count": 7,
   "id": "35b541ad",
   "metadata": {
    "execution": {
     "iopub.execute_input": "2025-09-27T11:33:13.058530Z",
     "iopub.status.busy": "2025-09-27T11:33:13.057218Z",
     "iopub.status.idle": "2025-09-27T11:33:13.079996Z",
     "shell.execute_reply": "2025-09-27T11:33:13.078816Z"
    },
    "papermill": {
     "duration": 0.029936,
     "end_time": "2025-09-27T11:33:13.081968",
     "exception": false,
     "start_time": "2025-09-27T11:33:13.052032",
     "status": "completed"
    },
    "tags": []
   },
   "outputs": [],
   "source": [
    "X_train = preprocessor.fit_transform(X_train)\n",
    "X_test = preprocessor.transform(X_test)"
   ]
  },
  {
   "cell_type": "code",
   "execution_count": 8,
   "id": "4ac0a706",
   "metadata": {
    "execution": {
     "iopub.execute_input": "2025-09-27T11:33:13.092017Z",
     "iopub.status.busy": "2025-09-27T11:33:13.091681Z",
     "iopub.status.idle": "2025-09-27T11:33:13.099940Z",
     "shell.execute_reply": "2025-09-27T11:33:13.098362Z"
    },
    "papermill": {
     "duration": 0.015788,
     "end_time": "2025-09-27T11:33:13.101955",
     "exception": false,
     "start_time": "2025-09-27T11:33:13.086167",
     "status": "completed"
    },
    "tags": []
   },
   "outputs": [
    {
     "data": {
      "text/plain": [
       "(6704, 18)"
      ]
     },
     "execution_count": 8,
     "metadata": {},
     "output_type": "execute_result"
    }
   ],
   "source": [
    "X_train.shape"
   ]
  },
  {
   "cell_type": "markdown",
   "id": "06790bf8",
   "metadata": {
    "papermill": {
     "duration": 0.003857,
     "end_time": "2025-09-27T11:33:13.111427",
     "exception": false,
     "start_time": "2025-09-27T11:33:13.107570",
     "status": "completed"
    },
    "tags": []
   },
   "source": [
    "## Model"
   ]
  },
  {
   "cell_type": "code",
   "execution_count": 9,
   "id": "acb26a28",
   "metadata": {
    "execution": {
     "iopub.execute_input": "2025-09-27T11:33:13.121661Z",
     "iopub.status.busy": "2025-09-27T11:33:13.120592Z",
     "iopub.status.idle": "2025-09-27T11:33:14.526578Z",
     "shell.execute_reply": "2025-09-27T11:33:14.525335Z"
    },
    "papermill": {
     "duration": 1.413495,
     "end_time": "2025-09-27T11:33:14.528963",
     "exception": false,
     "start_time": "2025-09-27T11:33:13.115468",
     "status": "completed"
    },
    "tags": []
   },
   "outputs": [
    {
     "name": "stdout",
     "output_type": "stream",
     "text": [
      "Train accuracy: 1.0\n",
      "Test accuracy: 0.9878218510786361\n"
     ]
    }
   ],
   "source": [
    "rf_model = RandomForestClassifier(n_estimators=100, random_state=42)\n",
    "rf_model.fit(X_train, y_train)\n",
    "\n",
    "# Accuracy\n",
    "print(\"Train accuracy:\", rf_model.score(X_train, y_train))\n",
    "print(\"Test accuracy:\", rf_model.score(X_test, y_test))"
   ]
  },
  {
   "cell_type": "code",
   "execution_count": 10,
   "id": "10ecaab0",
   "metadata": {
    "execution": {
     "iopub.execute_input": "2025-09-27T11:33:14.539042Z",
     "iopub.status.busy": "2025-09-27T11:33:14.538725Z",
     "iopub.status.idle": "2025-09-27T11:33:14.868810Z",
     "shell.execute_reply": "2025-09-27T11:33:14.867795Z"
    },
    "papermill": {
     "duration": 0.337215,
     "end_time": "2025-09-27T11:33:14.870725",
     "exception": false,
     "start_time": "2025-09-27T11:33:14.533510",
     "status": "completed"
    },
    "tags": []
   },
   "outputs": [
    {
     "data": {
      "image/png": "[encoded data removed]",
      "text/plain": [
       "<Figure size 640x480 with 2 Axes>"
      ]
     },
     "metadata": {},
     "output_type": "display_data"
    }
   ],
   "source": [
    "from sklearn.metrics import confusion_matrix, ConfusionMatrixDisplay\n",
    "y_pred = rf_model.predict(X_test)\n",
    "cm = confusion_matrix(y_test, y_pred)\n",
    "sns.heatmap(cm,annot=True,fmt='d')\n",
    "plt.show()"
   ]
  },
  {
   "cell_type": "code",
   "execution_count": 11,
   "id": "b50ecab3",
   "metadata": {
    "execution": {
     "iopub.execute_input": "2025-09-27T11:33:14.881335Z",
     "iopub.status.busy": "2025-09-27T11:33:14.881017Z",
     "iopub.status.idle": "2025-09-27T11:33:14.890523Z",
     "shell.execute_reply": "2025-09-27T11:33:14.889491Z"
    },
    "papermill": {
     "duration": 0.016831,
     "end_time": "2025-09-27T11:33:14.892404",
     "exception": false,
     "start_time": "2025-09-27T11:33:14.875573",
     "status": "completed"
    },
    "tags": []
   },
   "outputs": [
    {
     "data": {
      "text/plain": [
       "credit.policy\n",
       "1    2316\n",
       "0     558\n",
       "Name: count, dtype: int64"
      ]
     },
     "execution_count": 11,
     "metadata": {},
     "output_type": "execute_result"
    }
   ],
   "source": [
    "y_test.value_counts()"
   ]
  },
  {
   "cell_type": "code",
   "execution_count": 12,
   "id": "f0d449ea",
   "metadata": {
    "execution": {
     "iopub.execute_input": "2025-09-27T11:33:14.904227Z",
     "iopub.status.busy": "2025-09-27T11:33:14.903861Z",
     "iopub.status.idle": "2025-09-27T11:33:14.910051Z",
     "shell.execute_reply": "2025-09-27T11:33:14.909227Z"
    },
    "papermill": {
     "duration": 0.013759,
     "end_time": "2025-09-27T11:33:14.911651",
     "exception": false,
     "start_time": "2025-09-27T11:33:14.897892",
     "status": "completed"
    },
    "tags": []
   },
   "outputs": [
    {
     "data": {
      "text/plain": [
       "array([[ 531,   27],\n",
       "       [   8, 2308]])"
      ]
     },
     "execution_count": 12,
     "metadata": {},
     "output_type": "execute_result"
    }
   ],
   "source": [
    "cm"
   ]
  },
  {
   "cell_type": "code",
   "execution_count": 13,
   "id": "3ddefc8a",
   "metadata": {
    "execution": {
     "iopub.execute_input": "2025-09-27T11:33:14.925129Z",
     "iopub.status.busy": "2025-09-27T11:33:14.924803Z",
     "iopub.status.idle": "2025-09-27T11:33:14.945541Z",
     "shell.execute_reply": "2025-09-27T11:33:14.944069Z"
    },
    "papermill": {
     "duration": 0.030095,
     "end_time": "2025-09-27T11:33:14.947389",
     "exception": false,
     "start_time": "2025-09-27T11:33:14.917294",
     "status": "completed"
    },
    "tags": []
   },
   "outputs": [
    {
     "name": "stdout",
     "output_type": "stream",
     "text": [
      "              precision    recall  f1-score   support\n",
      "\n",
      "           0       0.99      0.95      0.97       558\n",
      "           1       0.99      1.00      0.99      2316\n",
      "\n",
      "    accuracy                           0.99      2874\n",
      "   macro avg       0.99      0.97      0.98      2874\n",
      "weighted avg       0.99      0.99      0.99      2874\n",
      "\n"
     ]
    }
   ],
   "source": [
    "from sklearn.metrics import classification_report\n",
    "\n",
    "print(classification_report(y_test, y_pred))"
   ]
  },
  {
   "cell_type": "code",
   "execution_count": 14,
   "id": "c117dce6",
   "metadata": {
    "execution": {
     "iopub.execute_input": "2025-09-27T11:33:14.959483Z",
     "iopub.status.busy": "2025-09-27T11:33:14.959118Z",
     "iopub.status.idle": "2025-09-27T11:33:15.035035Z",
     "shell.execute_reply": "2025-09-27T11:33:15.034026Z"
    },
    "papermill": {
     "duration": 0.084175,
     "end_time": "2025-09-27T11:33:15.037036",
     "exception": false,
     "start_time": "2025-09-27T11:33:14.952861",
     "status": "completed"
    },
    "tags": []
   },
   "outputs": [],
   "source": [
    "import joblib\n",
    "\n",
    "joblib.dump(rf_model, \"LoanApproval.pkl\")\n",
    "\n",
    "\n",
    "model = joblib.load(\"LoanApproval.pkl\")\n"
   ]
  },
  {
   "cell_type": "code",
   "execution_count": 15,
   "id": "601c54a9",
   "metadata": {
    "execution": {
     "iopub.execute_input": "2025-09-27T11:33:15.049048Z",
     "iopub.status.busy": "2025-09-27T11:33:15.048600Z",
     "iopub.status.idle": "2025-09-27T11:33:15.057708Z",
     "shell.execute_reply": "2025-09-27T11:33:15.056566Z"
    },
    "papermill": {
     "duration": 0.016897,
     "end_time": "2025-09-27T11:33:15.059513",
     "exception": false,
     "start_time": "2025-09-27T11:33:15.042616",
     "status": "completed"
    },
    "tags": []
   },
   "outputs": [],
   "source": [
    "joblib.dump(preprocessor, \"preprocessor.pkl\")\n",
    "\n",
    "\n",
    "preprocessor = joblib.load('preprocessor.pkl')"
   ]
  },
  {
   "cell_type": "code",
   "execution_count": 16,
   "id": "5c20a8be",
   "metadata": {
    "execution": {
     "iopub.execute_input": "2025-09-27T11:33:15.070628Z",
     "iopub.status.busy": "2025-09-27T11:33:15.070276Z",
     "iopub.status.idle": "2025-09-27T11:33:15.091882Z",
     "shell.execute_reply": "2025-09-27T11:33:15.090394Z"
    },
    "papermill": {
     "duration": 0.030128,
     "end_time": "2025-09-27T11:33:15.094614",
     "exception": false,
     "start_time": "2025-09-27T11:33:15.064486",
     "status": "completed"
    },
    "tags": []
   },
   "outputs": [
    {
     "name": "stdout",
     "output_type": "stream",
     "text": [
      "Predicted credit policy: Approved\n"
     ]
    }
   ],
   "source": [
    "user_input = {\n",
    "    'purpose': 'debt_consolidation',\n",
    "    'int.rate': 0.0894,\n",
    "    'installment': 460.69,\n",
    "    'log.annual.inc': 11.512925,\n",
    "    'dti': 6.54,\n",
    "    'fico': 762,\n",
    "    'days.with.cr.line': 6930.0,\n",
    "    'revol.bal': 7563,\n",
    "    'revol.util': 30.0,\n",
    "    'inq.last.6mths': 0,\n",
    "    'delinq.2yrs': 0,\n",
    "    'pub.rec': 0,\n",
    "    'not.fully.paid':0\n",
    "}\n",
    "input_df = pd.DataFrame([user_input])\n",
    "input_transformed = preprocessor.transform(input_df)\n",
    "prediction = model.predict(input_transformed)\n",
    "if prediction[0]==1 :\n",
    "    p = \"Approved\"\n",
    "elif prediction[0]==0:\n",
    "    p = \"Not Approved\"\n",
    "print(\"Predicted credit policy:\",p )\n"
   ]
  }
 ],
 "metadata": {
  "kaggle": {
   "accelerator": "none",
   "dataSources": [
    {
     "datasetId": 1340957,
     "sourceId": 2232033,
     "sourceType": "datasetVersion"
    }
   ],
   "dockerImageVersionId": 31089,
   "isGpuEnabled": false,
   "isInternetEnabled": true,
   "language": "python",
   "sourceType": "notebook"
  },
  "kernelspec": {
   "display_name": "Python 3",
   "language": "python",
   "name": "python3"
  },
  "language_info": {
   "codemirror_mode": {
    "name": "ipython",
    "version": 3
   },
   "file_extension": ".py",
   "mimetype": "text/x-python",
   "name": "python",
   "nbconvert_exporter": "python",
   "pygments_lexer": "ipython3",
   "version": "3.11.13"
  },
  "papermill": {
   "default_parameters": {},
   "duration": 14.84859,
   "end_time": "2025-09-27T11:33:15.926836",
   "environment_variables": {},
   "exception": null,
   "input_path": "__notebook__.ipynb",
   "output_path": "__notebook__.ipynb",
   "parameters": {},
   "start_time": "2025-09-27T11:33:01.078246",
   "version": "2.6.0"
  }
 },
 "nbformat": 4,
 "nbformat_minor": 5
}
