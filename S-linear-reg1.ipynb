{
 "cells": [
  {
   "cell_type": "code",
   "execution_count": 1,
   "id": "2b25d04a-12d0-4e82-93e4-b5b04bfdde2a",
   "metadata": {},
   "outputs": [],
   "source": [
    "import pandas as pd \n",
    "import numpy as np\n",
    "import matplotlib.pyplot as plt\n",
    "import seaborn as sns\n",
    "from sklearn import linear_model\n",
    "from sklearn.model_selection import train_test_split"
   ]
  },
  {
   "cell_type": "code",
   "execution_count": 2,
   "id": "f3574307-756f-477c-8162-159b3de7b003",
   "metadata": {},
   "outputs": [],
   "source": [
    "np.random.seed(42)\n",
    "cgpa = np.round(np.random.uniform(6.0, 10.0, 100), 2)\n",
    "\n",
    "package = np.round(cgpa * 2 + np.random.normal(0, 1, 100), 2)\n",
    "\n",
    "data = pd.DataFrame({\n",
    "    'CGPA': cgpa,\n",
    "    'Package (LPA)': package\n",
    "})\n",
    "\n",
    "# Ensuring no negative packages\n",
    "data['Package (LPA)'] = data['Package (LPA)'].apply(lambda x: max(x, 0))\n",
    "\n"
   ]
  },
  {
   "cell_type": "code",
   "execution_count": 3,
   "id": "b32083fc-d20d-4f17-905b-5ecda045cdc3",
   "metadata": {},
   "outputs": [
    {
     "data": {
      "text/html": [
       "<div>\n",
       "<style scoped>\n",
       "    .dataframe tbody tr th:only-of-type {\n",
       "        vertical-align: middle;\n",
       "    }\n",
       "\n",
       "    .dataframe tbody tr th {\n",
       "        vertical-align: top;\n",
       "    }\n",
       "\n",
       "    .dataframe thead th {\n",
       "        text-align: right;\n",
       "    }\n",
       "</style>\n",
       "<table border=\"1\" class=\"dataframe\">\n",
       "  <thead>\n",
       "    <tr style=\"text-align: right;\">\n",
       "      <th></th>\n",
       "      <th>CGPA</th>\n",
       "      <th>Package (LPA)</th>\n",
       "    </tr>\n",
       "  </thead>\n",
       "  <tbody>\n",
       "    <tr>\n",
       "      <th>0</th>\n",
       "      <td>7.50</td>\n",
       "      <td>15.09</td>\n",
       "    </tr>\n",
       "    <tr>\n",
       "      <th>1</th>\n",
       "      <td>9.80</td>\n",
       "      <td>19.30</td>\n",
       "    </tr>\n",
       "    <tr>\n",
       "      <th>2</th>\n",
       "      <td>8.93</td>\n",
       "      <td>17.95</td>\n",
       "    </tr>\n",
       "    <tr>\n",
       "      <th>3</th>\n",
       "      <td>8.39</td>\n",
       "      <td>14.79</td>\n",
       "    </tr>\n",
       "    <tr>\n",
       "      <th>4</th>\n",
       "      <td>6.62</td>\n",
       "      <td>13.02</td>\n",
       "    </tr>\n",
       "    <tr>\n",
       "      <th>...</th>\n",
       "      <td>...</td>\n",
       "      <td>...</td>\n",
       "    </tr>\n",
       "    <tr>\n",
       "      <th>95</th>\n",
       "      <td>7.98</td>\n",
       "      <td>15.14</td>\n",
       "    </tr>\n",
       "    <tr>\n",
       "      <th>96</th>\n",
       "      <td>8.09</td>\n",
       "      <td>16.10</td>\n",
       "    </tr>\n",
       "    <tr>\n",
       "      <th>97</th>\n",
       "      <td>7.71</td>\n",
       "      <td>15.76</td>\n",
       "    </tr>\n",
       "    <tr>\n",
       "      <th>98</th>\n",
       "      <td>6.10</td>\n",
       "      <td>12.48</td>\n",
       "    </tr>\n",
       "    <tr>\n",
       "      <th>99</th>\n",
       "      <td>6.43</td>\n",
       "      <td>13.69</td>\n",
       "    </tr>\n",
       "  </tbody>\n",
       "</table>\n",
       "<p>100 rows × 2 columns</p>\n",
       "</div>"
      ],
      "text/plain": [
       "    CGPA  Package (LPA)\n",
       "0   7.50          15.09\n",
       "1   9.80          19.30\n",
       "2   8.93          17.95\n",
       "3   8.39          14.79\n",
       "4   6.62          13.02\n",
       "..   ...            ...\n",
       "95  7.98          15.14\n",
       "96  8.09          16.10\n",
       "97  7.71          15.76\n",
       "98  6.10          12.48\n",
       "99  6.43          13.69\n",
       "\n",
       "[100 rows x 2 columns]"
      ]
     },
     "execution_count": 3,
     "metadata": {},
     "output_type": "execute_result"
    }
   ],
   "source": [
    "data"
   ]
  },
  {
   "cell_type": "code",
   "execution_count": 4,
   "id": "5ad8c6ec-0823-41b0-88da-09f51efabe1a",
   "metadata": {},
   "outputs": [
    {
     "data": {
      "text/plain": [
       "<Axes: xlabel='CGPA', ylabel='Package (LPA)'>"
      ]
     },
     "execution_count": 4,
     "metadata": {},
     "output_type": "execute_result"
    },
    {
     "data": {
      "image/png": "[encoded data removed]",
      "text/plain": [
       "<Figure size 640x480 with 1 Axes>"
      ]
     },
     "metadata": {},
     "output_type": "display_data"
    }
   ],
   "source": [
    "sns.scatterplot(data,x='CGPA',y='Package (LPA)')"
   ]
  },
  {
   "cell_type": "code",
   "execution_count": 5,
   "id": "ba31534b-b23a-43fc-a88b-08290963227c",
   "metadata": {},
   "outputs": [
    {
     "data": {
      "text/plain": [
       "0.9265127593467578"
      ]
     },
     "execution_count": 5,
     "metadata": {},
     "output_type": "execute_result"
    }
   ],
   "source": [
    "X_train, X_test, y_train, y_test = train_test_split(data[['CGPA']],data['Package (LPA)'],test_size=0.2,random_state=81)\n",
    "\n",
    "lr = linear_model.LinearRegression()\n",
    "lr.fit(X_train,y_train)\n",
    "\n",
    "score = lr.score(X_test,y_test)\n",
    "score"
   ]
  },
  {
   "cell_type": "code",
   "execution_count": 11,
   "id": "8e7adf5f-9774-4670-982e-7570e9d48612",
   "metadata": {},
   "outputs": [],
   "source": [
    "a=0\n",
    "for i in range(1,101):\n",
    "    X_train, X_test, y_train, y_test = train_test_split(data[['CGPA']],data['Package (LPA)'],test_size=0.2,random_state=i)\n",
    "    lr = linear_model.LinearRegression()\n",
    "    lr.fit(X_train,y_train)\n",
    "    bst_score = lr.score(X_test,y_test)\n",
    "    if score < bst_score:\n",
    "        score=bst_score\n",
    "        a = i"
   ]
  },
  {
   "cell_type": "code",
   "execution_count": 12,
   "id": "230b216a-9d1f-42f9-876d-5432eb9b0630",
   "metadata": {},
   "outputs": [
    {
     "data": {
      "text/plain": [
       "(0.9265127593467578, 0)"
      ]
     },
     "execution_count": 12,
     "metadata": {},
     "output_type": "execute_result"
    }
   ],
   "source": [
    "score,a"
   ]
  },
  {
   "cell_type": "code",
   "execution_count": 13,
   "id": "b239cae2-4e08-4d19-af06-aed8ccf27cc6",
   "metadata": {},
   "outputs": [
    {
     "data": {
      "text/plain": [
       "[<matplotlib.lines.Line2D at 0x2915ee8a060>]"
      ]
     },
     "execution_count": 13,
     "metadata": {},
     "output_type": "execute_result"
    },
    {
     "data": {
      "image/png": "[encoded data removed]",
      "text/plain": [
       "<Figure size 640x480 with 1 Axes>"
      ]
     },
     "metadata": {},
     "output_type": "display_data"
    }
   ],
   "source": [
    "sns.scatterplot(data=data,x='CGPA',y='Package (LPA)')\n",
    "plt.plot(X_train,lr.predict(X_train),c='r')"
   ]
  },
  {
   "cell_type": "code",
   "execution_count": 14,
   "id": "bb4d054c-ae60-4e59-a2d7-44c30f50546f",
   "metadata": {},
   "outputs": [
    {
     "data": {
      "text/plain": [
       "(array([1.89683746]), 0.7657504346699984)"
      ]
     },
     "execution_count": 14,
     "metadata": {},
     "output_type": "execute_result"
    }
   ],
   "source": [
    "lr.coef_,lr.intercept_"
   ]
  },
  {
   "cell_type": "code",
   "execution_count": 18,
   "id": "9f9bd622-5ca5-4d04-8627-89b57dc5f14f",
   "metadata": {},
   "outputs": [
    {
     "data": {
      "text/plain": [
       "(7.8805000000000005, 15.7602)"
      ]
     },
     "execution_count": 18,
     "metadata": {},
     "output_type": "execute_result"
    }
   ],
   "source": [
    "x_mean ,y_mean= data.CGPA.mean(),data['Package (LPA)'].mean()\n",
    "x_mean,y_mean"
   ]
  },
  {
   "cell_type": "code",
   "execution_count": 19,
   "id": "0db60fab-7a38-4c3a-81df-907bc93298b5",
   "metadata": {},
   "outputs": [],
   "source": [
    "m = ((5.1-x_mean)*(6.7-y_mean))/((5.1-x_mean)**2)"
   ]
  },
  {
   "cell_type": "code",
   "execution_count": 20,
   "id": "523b721a-63d5-489a-88d3-03b528b963db",
   "metadata": {},
   "outputs": [],
   "source": [
    "c = y_mean - m * x_mean"
   ]
  },
  {
   "cell_type": "code",
   "execution_count": 21,
   "id": "02a34bd5-fc0f-4cd0-969e-60b616d8060e",
   "metadata": {},
   "outputs": [
    {
     "data": {
      "text/plain": [
       "7.025847869088297"
      ]
     },
     "execution_count": 21,
     "metadata": {},
     "output_type": "execute_result"
    }
   ],
   "source": [
    "m * 5.2 + c"
   ]
  },
  {
   "cell_type": "code",
   "execution_count": 22,
   "id": "7fc48e60-29e1-4d37-8393-4dc435d0f7dd",
   "metadata": {},
   "outputs": [],
   "source": [
    "numerator = np.sum((5.1 - x_mean) * (6.7 - y_mean))\n",
    "denominator = np.sum((5.1 - x_mean) ** 2)\n",
    "m = numerator / denominator\n",
    "\n",
    "\n",
    "c = y_mean - m * x_mean\n",
    "\n",
    "\n",
    "def predict(x):\n",
    "    return m * x + c"
   ]
  },
  {
   "cell_type": "code",
   "execution_count": 23,
   "id": "705a7474-1e24-45c6-9e9a-34fd9f00be1d",
   "metadata": {},
   "outputs": [
    {
     "data": {
      "text/plain": [
       "7.025847869088297"
      ]
     },
     "execution_count": 23,
     "metadata": {},
     "output_type": "execute_result"
    }
   ],
   "source": [
    "predict(5.2)"
   ]
  },
  {
   "cell_type": "code",
   "execution_count": 33,
   "id": "7c2b15e3-f8cb-4249-aea5-016feebbea69",
   "metadata": {},
   "outputs": [
    {
     "data": {
      "text/plain": [
       "<seaborn.axisgrid.FacetGrid at 0x29162bdaa20>"
      ]
     },
     "execution_count": 33,
     "metadata": {},
     "output_type": "execute_result"
    },
    {
     "data": {
      "image/png": "[encoded data removed]",
      "text/plain": [
       "<Figure size 500x500 with 1 Axes>"
      ]
     },
     "metadata": {},
     "output_type": "display_data"
    }
   ],
   "source": [
    "sns.relplot(x='CGPA',y='Package (LPA)',data=data)"
   ]
  },
  {
   "cell_type": "code",
   "execution_count": null,
   "id": "2517a5af-69ae-4298-89bb-ba719db9f8e4",
   "metadata": {},
   "outputs": [],
   "source": []
  }
 ],
 "metadata": {
  "kernelspec": {
   "display_name": "Python 3 (ipykernel)",
   "language": "python",
   "name": "python3"
  },
  "language_info": {
   "codemirror_mode": {
    "name": "ipython",
    "version": 3
   },
   "file_extension": ".py",
   "mimetype": "text/x-python",
   "name": "python",
   "nbconvert_exporter": "python",
   "pygments_lexer": "ipython3",
   "version": "3.12.4"
  }
 },
 "nbformat": 4,
 "nbformat_minor": 5
}
